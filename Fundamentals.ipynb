{
  "nbformat": 4,
  "nbformat_minor": 0,
  "metadata": {
    "colab": {
      "provenance": [],
      "collapsed_sections": [
        "Q6awQTWBrCKN",
        "clKDyvGxsO30"
      ]
    },
    "kernelspec": {
      "name": "python3",
      "display_name": "Python 3"
    },
    "language_info": {
      "name": "python"
    }
  },
  "cells": [
    {
      "cell_type": "markdown",
      "source": [
        "# Matrix Operation"
      ],
      "metadata": {
        "id": "Q6awQTWBrCKN"
      }
    },
    {
      "cell_type": "code",
      "execution_count": null,
      "metadata": {
        "colab": {
          "base_uri": "https://localhost:8080/"
        },
        "id": "kuu6G67tBaKc",
        "outputId": "f32ad2c1-55e9-43f8-db88-ca45b392d1b0"
      },
      "outputs": [
        {
          "output_type": "stream",
          "name": "stdout",
          "text": [
            "The determinant of the matrix is: 0.0\n"
          ]
        }
      ],
      "source": [
        "import numpy as np\n",
        "\n",
        "# Creating the array\n",
        "matrix = np.array([\n",
        "    [-1, 1, 1],\n",
        "    [2, 2, 6],\n",
        "    [1, 2,5]\n",
        "])\n",
        "\n",
        "# Calculating the determinant\n",
        "determinant = np.linalg.det(matrix)\n",
        "\n",
        "print(\"The determinant of the matrix is:\", determinant)\n"
      ]
    },
    {
      "cell_type": "code",
      "source": [
        "import numpy as np\n",
        "\n",
        "# Creating the array\n",
        "matrix = np.array([\n",
        "    [3, 2],\n",
        "    [5, 8]\n",
        "])\n",
        "\n",
        "# Calculating the covariance matrix\n",
        "cov_matrix = np.cov(matrix, rowvar=False)\n",
        "\n",
        "print(\"The covariance matrix is:\\n\", cov_matrix)\n"
      ],
      "metadata": {
        "id": "CyUfbbwNE43c",
        "outputId": "77964182-e4ca-47f6-ef9e-eb97478f64ab",
        "colab": {
          "base_uri": "https://localhost:8080/"
        }
      },
      "execution_count": null,
      "outputs": [
        {
          "output_type": "stream",
          "name": "stdout",
          "text": [
            "The covariance matrix is:\n",
            " [[ 2.  6.]\n",
            " [ 6. 18.]]\n"
          ]
        }
      ]
    },
    {
      "cell_type": "code",
      "source": [
        "import numpy as np\n",
        "\n",
        "# Creating the array\n",
        "matrix1 = np.array([\n",
        "    [1,0, 1],\n",
        "    [0, 1, 0],\n",
        "    [1, 1,1]\n",
        "])\n",
        "\n",
        "det1= np.linalg.det(matrix1)\n",
        "\n",
        "\n",
        "# Creating the array\n",
        "matrix2 = np.array([\n",
        "    [2,8,7],\n",
        "    [4, 3, 9],\n",
        "    [1,9,5]\n",
        "])\n",
        "\n",
        "det2= np.linalg.det(matrix2)\n",
        "\n",
        "print(\"The determinant of the matrix1 is:\", det1)\n",
        "print(\"The determinant of the matrix2 is:\", det2)\n",
        "\n",
        "\n"
      ],
      "metadata": {
        "colab": {
          "base_uri": "https://localhost:8080/"
        },
        "id": "GCj3QH0Zocdu",
        "outputId": "f55de805-3706-4c02-8c0e-1d43697886c6"
      },
      "execution_count": null,
      "outputs": [
        {
          "output_type": "stream",
          "name": "stdout",
          "text": [
            "The determinant of the matrix1 is: 0.0\n",
            "The determinant of the matrix2 is: 11.00000000000001\n"
          ]
        }
      ]
    },
    {
      "cell_type": "code",
      "source": [
        "matrix3 = np.array([\n",
        "    [-20,-1,0],\n",
        "    [20, 1, 0],\n",
        "])"
      ],
      "metadata": {
        "id": "JPHMtfc8tQox"
      },
      "execution_count": null,
      "outputs": []
    },
    {
      "cell_type": "code",
      "source": [
        "import numpy as np\n",
        "\n",
        "# Define the matrix\n",
        "matrix3 = np.array([\n",
        "    [-20, -1, 0],\n",
        "    [20, 1, 0],\n",
        "])\n",
        "\n",
        "# Calculate the transpose\n",
        "transpose_matrix3 = matrix3.T\n",
        "\n",
        "print(\"Original Matrix:\")\n",
        "print(matrix3)\n",
        "\n",
        "print(\"\\nTranspose of the Matrix:\")\n",
        "print(transpose_matrix3)\n"
      ],
      "metadata": {
        "colab": {
          "base_uri": "https://localhost:8080/"
        },
        "id": "-wTyXlhQti9t",
        "outputId": "525a80c9-8d3c-4791-feac-d063a54f38d6"
      },
      "execution_count": null,
      "outputs": [
        {
          "output_type": "stream",
          "name": "stdout",
          "text": [
            "Original Matrix:\n",
            "[[-20  -1   0]\n",
            " [ 20   1   0]]\n",
            "\n",
            "Transpose of the Matrix:\n",
            "[[-20  20]\n",
            " [ -1   1]\n",
            " [  0   0]]\n"
          ]
        }
      ]
    },
    {
      "cell_type": "code",
      "source": [
        "import numpy as np\n",
        "\n",
        "# Define matrix3\n",
        "matrix3 = np.array([\n",
        "    [-20, -1, 0],\n",
        "    [20, 1, 0],\n",
        "])\n",
        "\n",
        "# Define its transpose\n",
        "matrix_transpose = np.array([\n",
        "    [-20, 20],\n",
        "    [-1, 1],\n",
        "    [0, 0],\n",
        "])\n",
        "\n",
        "# Perform matrix multiplication\n",
        "result = np.dot(matrix3, matrix_transpose)  # or matrix3 @ matrix_transpose\n",
        "\n",
        "print(\"Matrix3:\")\n",
        "print(matrix3)\n",
        "\n",
        "print(\"\\nMatrix Transpose:\")\n",
        "print(matrix_transpose)\n",
        "\n",
        "print(\"\\nResult of Matrix Multiplication:\")\n",
        "print(result)\n"
      ],
      "metadata": {
        "colab": {
          "base_uri": "https://localhost:8080/"
        },
        "id": "yckuLYvmt0fp",
        "outputId": "06945cdf-c0ca-4612-f126-6354a615fd55"
      },
      "execution_count": null,
      "outputs": [
        {
          "output_type": "stream",
          "name": "stdout",
          "text": [
            "Matrix3:\n",
            "[[-20  -1   0]\n",
            " [ 20   1   0]]\n",
            "\n",
            "Matrix Transpose:\n",
            "[[-20  20]\n",
            " [ -1   1]\n",
            " [  0   0]]\n",
            "\n",
            "Result of Matrix Multiplication:\n",
            "[[ 401 -401]\n",
            " [-401  401]]\n"
          ]
        }
      ]
    },
    {
      "cell_type": "code",
      "source": [
        "# Creating the array\n",
        "mat1 = np.array([\n",
        "    [2,8,7],\n",
        "    [4, 3, 9],\n",
        "    [1,9,5]\n",
        "])\n",
        "\n",
        "# Creating the array\n",
        "mat2 = np.array([\n",
        "    [1,2,3],\n",
        "    [4, 5,6],\n",
        "    [7,8,9]\n",
        "])\n",
        "\n",
        "#matrix multiplication\n",
        "mat3=mat1@mat2\n",
        "print(mat3)\n"
      ],
      "metadata": {
        "colab": {
          "base_uri": "https://localhost:8080/"
        },
        "id": "IIhYEOt-rLuJ",
        "outputId": "cf4c79d5-a3e2-415d-cf2a-515fde5405a3"
      },
      "execution_count": null,
      "outputs": [
        {
          "output_type": "stream",
          "name": "stdout",
          "text": [
            "[[ 83 100 117]\n",
            " [ 79  95 111]\n",
            " [ 72  87 102]]\n"
          ]
        }
      ]
    },
    {
      "cell_type": "code",
      "source": [
        "# Creating the array\n",
        "mat1 = np.array([\n",
        "    [2,8,7],\n",
        "    [4, 3, 9],\n",
        "    [1,9,5]\n",
        "])\n",
        "\n",
        "# Creating the array\n",
        "mat2 = np.array([\n",
        "    [1,2,3],\n",
        "    [4, 5,6],\n",
        "    [7,8,9]\n",
        "])\n",
        "\n",
        "#matrix multiplication\n",
        "matdot=np.dot(mat1,mat2)\n",
        "print(matdot)"
      ],
      "metadata": {
        "colab": {
          "base_uri": "https://localhost:8080/"
        },
        "id": "FBgzaSIxrkTy",
        "outputId": "d221fed2-7e10-43b8-b610-5972c00aa1fb"
      },
      "execution_count": null,
      "outputs": [
        {
          "output_type": "stream",
          "name": "stdout",
          "text": [
            "[[ 83 100 117]\n",
            " [ 79  95 111]\n",
            " [ 72  87 102]]\n"
          ]
        }
      ]
    },
    {
      "cell_type": "markdown",
      "source": [
        "# Reshape"
      ],
      "metadata": {
        "id": "Vqv9qo9nq2dw"
      }
    },
    {
      "cell_type": "code",
      "source": [
        "# Reshape refers to the process of changing the dimensions or structure of an array or dataset while maintaining its data elements\n",
        "#numpy.reshape(array, newshape)\n",
        "\n",
        "#array: The input NumPy array you want to reshap\n",
        "#newshape: A tuple specifying the desired shape (e.g., (rows, columns))\n",
        "\n",
        "'''\n",
        "\n",
        "numpyarray.reshape(rows,cols)\n",
        "\n",
        "You can use -1 to let Python (NumPy) automatically calculate one of the dimensions.\n",
        "\n",
        "'''\n"
      ],
      "metadata": {
        "id": "EZDRtgWiqtgF"
      },
      "execution_count": null,
      "outputs": []
    },
    {
      "cell_type": "code",
      "source": [
        "# Tuple data type\n",
        "\n",
        "'''\n",
        "\n",
        "A tuple is a built-in data type in Python used to store a collection of items\n",
        "- Ordered (items have a fixed order),\n",
        "- Immutable (you can’t change items after the tuple is created),\n",
        "- Can contain different data types (int, string, float, etc.).\n",
        "\n",
        "example: person = (\"Alice\", 30, \"Engineer\")\n",
        "print(person[0])  # Output: Alice\n",
        "\n",
        "'''"
      ],
      "metadata": {
        "id": "hpEa__75gQgo"
      },
      "execution_count": null,
      "outputs": []
    },
    {
      "cell_type": "code",
      "source": [
        "#1D array\n",
        "arr1=np.array([1, 2, 3, 4, 5, 6])\n",
        "\n",
        "print(f' array dimension is {arr1.ndim}')  # Prints the number of dimensions\n",
        "print(arr1.shape)\n",
        "\n",
        "#Note: A tuple is an immutable and ordered collection of items in Python.\n",
        "# It is similar to a list, but once a tuple is created, its elements cannot be changed, added, or removed.\n",
        "\n",
        "#For a 1D array, the shape will be (n,), where n is the number of elements in the array"
      ],
      "metadata": {
        "colab": {
          "base_uri": "https://localhost:8080/"
        },
        "id": "6NQAAw9ZqtVT",
        "outputId": "e2cadc6a-f33b-4615-93ce-fed057db7794"
      },
      "execution_count": null,
      "outputs": [
        {
          "output_type": "stream",
          "name": "stdout",
          "text": [
            " array dimension is 1\n",
            "(6,)\n"
          ]
        }
      ]
    },
    {
      "cell_type": "code",
      "source": [
        "#2D array\n",
        "arr2=np.array([\n",
        "              [1, 2, 3, 4, 5, 6]\n",
        "              ])\n",
        "print(arr2.ndim)  # Prints the number of dimensions\n",
        "print(arr2.shape)\n",
        "\n",
        "#The .shape attribute  return (1, 6), meaning it has:\n",
        "#1 row\n",
        "#6 columns\n"
      ],
      "metadata": {
        "colab": {
          "base_uri": "https://localhost:8080/"
        },
        "id": "D_XGUZ91qtNO",
        "outputId": "88a8cd19-342c-4fcb-8e53-b8488659fe84"
      },
      "execution_count": null,
      "outputs": [
        {
          "output_type": "stream",
          "name": "stdout",
          "text": [
            "2\n",
            "(1, 6)\n"
          ]
        }
      ]
    },
    {
      "cell_type": "code",
      "source": [
        "import numpy as np\n",
        "\n",
        "# Original 1D array\n",
        "arr = np.array([1, 2, 3, 4, 5, 6])\n",
        "print(f'1D array is {arr}')\n",
        "\n",
        "# Reshaping to 2D (2 rows, 3 columns)\n",
        "reshaped = arr.reshape(2, 3)\n",
        "print(reshaped)\n"
      ],
      "metadata": {
        "colab": {
          "base_uri": "https://localhost:8080/"
        },
        "id": "m8j_mWjtsKTr",
        "outputId": "44f4d3b7-ea94-4196-e091-e0a716a2c293"
      },
      "execution_count": null,
      "outputs": [
        {
          "output_type": "stream",
          "name": "stdout",
          "text": [
            "1D array is [1 2 3 4 5 6]\n",
            "[[1 2 3]\n",
            " [4 5 6]]\n"
          ]
        }
      ]
    },
    {
      "cell_type": "code",
      "source": [
        "# Reshaping to 3D (2 blocks, 1 row, 3 columns)\n",
        "reshaped = arr.reshape(2, 1, 3)\n",
        "print(reshaped)\n"
      ],
      "metadata": {
        "colab": {
          "base_uri": "https://localhost:8080/"
        },
        "id": "fLmrR3Uks2_Q",
        "outputId": "c01a5660-de10-4f50-cbfa-2776d280f0a3"
      },
      "execution_count": null,
      "outputs": [
        {
          "output_type": "stream",
          "name": "stdout",
          "text": [
            "[[[1 2 3]]\n",
            "\n",
            " [[4 5 6]]]\n"
          ]
        }
      ]
    },
    {
      "cell_type": "code",
      "source": [
        "# Flattening back to 1D\n",
        "#flattened = reshaped.reshape(-1)  # -1 automatically calculates the required size\n",
        "#this can also be written as\n",
        "flatten2=np.reshape(reshaped,-1)\n",
        "print(flatten2)\n"
      ],
      "metadata": {
        "colab": {
          "base_uri": "https://localhost:8080/"
        },
        "id": "b11fj2k7s2ww",
        "outputId": "44910ff6-1151-4bc1-a838-df808afeea34"
      },
      "execution_count": null,
      "outputs": [
        {
          "output_type": "stream",
          "name": "stdout",
          "text": [
            "[1 2 3 4 5 6]\n"
          ]
        }
      ]
    },
    {
      "cell_type": "code",
      "source": [
        "#The -1 in the context of the reshape function in NumPy is a placeholder that tells NumPy to automatically calculate the dimension that is missing,\n",
        "# based on the total number of elements in the array.\n",
        "# It is a convenient way to reshape arrays without explicitly calculating the size of one dimension.\n",
        "\n",
        "#Suppose you have an array with 12 elements. If you want to reshape it to a shape (3, -1), NumPy will automatically determine the missing dimension (-1) as 4, because\n",
        "#3 × 4 = 12\n"
      ],
      "metadata": {
        "id": "vM2j-4pXuzV8"
      },
      "execution_count": null,
      "outputs": []
    },
    {
      "cell_type": "code",
      "source": [
        "import numpy as np\n",
        "\n",
        "arr = np.array([1, 2, 3, 4, 5, 6])\n",
        "\n",
        "# Reshape with one unknown dimension (-1)\n",
        "reshaped = arr.reshape(-1, 2)  # Let NumPy calculate rows\n",
        "print(reshaped)\n",
        "\n",
        "#The original array has 6 elements.\n",
        "#You specified 2 columns.\n",
        "#NumPy calculates the number of rows as\n",
        "#6 ÷ 2 = 3\n",
        "#so -1 is actually replaced by 3"
      ],
      "metadata": {
        "colab": {
          "base_uri": "https://localhost:8080/"
        },
        "id": "Rw5cYGZnuzNC",
        "outputId": "abfabe29-830c-41d7-f570-a497bdbc05f4"
      },
      "execution_count": null,
      "outputs": [
        {
          "output_type": "stream",
          "name": "stdout",
          "text": [
            "[[1 2]\n",
            " [3 4]\n",
            " [5 6]]\n"
          ]
        }
      ]
    },
    {
      "cell_type": "code",
      "source": [
        "import numpy as np\n",
        "\n",
        "arr = np.array([1, 2, 3, 4, 5, 6])\n",
        "\n",
        "# Reshape with one unknown dimension (-1)\n",
        "reshaped = arr.reshape(2, -1)  # Let NumPy calculate rows\n",
        "print(reshaped)\n",
        "\n",
        "#The original array has 6 elements.\n",
        "#You specified 2 rows now\n",
        "#NumPy calculates the number of col as\n",
        "#6 ÷ 2 = 3\n",
        "#so -1 is actually replaced by 3"
      ],
      "metadata": {
        "colab": {
          "base_uri": "https://localhost:8080/"
        },
        "id": "_3C-I8pMveOU",
        "outputId": "e544d397-4707-47df-f8a7-fe4e892e04ec"
      },
      "execution_count": null,
      "outputs": [
        {
          "output_type": "stream",
          "name": "stdout",
          "text": [
            "[[1 2 3]\n",
            " [4 5 6]]\n"
          ]
        }
      ]
    },
    {
      "cell_type": "markdown",
      "source": [
        "# Central Tendency - Mean"
      ],
      "metadata": {
        "id": "clKDyvGxsO30"
      }
    },
    {
      "cell_type": "code",
      "source": [
        "import numpy as np\n",
        "\n",
        "def center_data(Y):\n",
        "    \"\"\"\n",
        "    Center your original data\n",
        "    Args:\n",
        "         Y (ndarray): input data. Shape (n_observations x n_pixels)\n",
        "    Outputs:\n",
        "        X (ndarray): centered data\n",
        "    \"\"\"\n",
        "    # Compute the column-wise mean\n",
        "    mean_vector = np.mean(Y, axis=0)\n",
        "    print(f' mean_vector is {mean_vector}')\n",
        "    # Subtract the mean vector from the original data\n",
        "    X = Y - mean_vector\n",
        "\n",
        "    return X\n"
      ],
      "metadata": {
        "id": "Y1m5QRevLu5w"
      },
      "execution_count": null,
      "outputs": []
    },
    {
      "cell_type": "code",
      "source": [
        "Y = np.array([[1, 2, 3],\n",
        "              [4, 5, 6],\n",
        "              [7, 8, 9]])\n",
        "#Take mean of each column e.g: (1+4+7)/3\n",
        "mean_vector = np.mean(Y, axis=0)\n",
        "print(mean_vector)\n"
      ],
      "metadata": {
        "colab": {
          "base_uri": "https://localhost:8080/"
        },
        "id": "IL2axIvQMHnU",
        "outputId": "ef4c3c43-a5eb-40ac-b108-334421df3dd3"
      },
      "execution_count": null,
      "outputs": [
        {
          "output_type": "stream",
          "name": "stdout",
          "text": [
            "[4. 5. 6.]\n"
          ]
        }
      ]
    },
    {
      "cell_type": "code",
      "source": [
        "mean_vector = mean_vector.reshape(1, -1)  # Row vector here - says cols will calculated during runtime\n",
        "print(mean_vector)\n",
        "print(f'dimension of mean_vector is {mean_vector.ndim} -D')\n",
        "#row=1, col=3\n"
      ],
      "metadata": {
        "colab": {
          "base_uri": "https://localhost:8080/"
        },
        "id": "JvKNH7w4ohT-",
        "outputId": "f44f9f61-2741-43b0-8b24-86480457c427"
      },
      "execution_count": null,
      "outputs": [
        {
          "output_type": "stream",
          "name": "stdout",
          "text": [
            "[[4. 5. 6.]]\n",
            "dimension of mean_vector is 2 -D\n"
          ]
        }
      ]
    },
    {
      "cell_type": "code",
      "source": [
        "Y = np.array([[1, 2, 3],\n",
        "              [4, 5, 6],\n",
        "              [7, 8, 9]])\n",
        "X = center_data(Y)\n",
        "print(X)\n"
      ],
      "metadata": {
        "colab": {
          "base_uri": "https://localhost:8080/"
        },
        "id": "VuQUVI7XLyXf",
        "outputId": "84d3a83e-4eca-49a6-b156-9fc9bea61e23"
      },
      "execution_count": null,
      "outputs": [
        {
          "output_type": "stream",
          "name": "stdout",
          "text": [
            " mean_vector is [4. 5. 6.]\n",
            "[[-3. -3. -3.]\n",
            " [ 0.  0.  0.]\n",
            " [ 3.  3.  3.]]\n"
          ]
        }
      ]
    },
    {
      "cell_type": "code",
      "source": [
        "import numpy as np\n",
        "\n",
        "# Original array (1D)\n",
        "arr = np.array([1, 2, 3, 4, 5, 6])\n",
        "\n",
        "# Reshape into a 2D array with 2 rows and 3 columns\n",
        "reshaped = np.reshape(arr, (2, 3))\n",
        "\n",
        "print(\"Original array:\", arr)       # [1 2 3 4 5 6]\n",
        "print(\"Reshaped array:\\n\", reshaped)\n",
        "\n",
        "Sarr=arr.reshape(1,-1)\n",
        "Tarr=Sarr.T\n",
        "print(f'Transposed {Tarr}')\n",
        "\n",
        "reshapedArr=np.reshape(arr, (6, 1))\n",
        "print(f'reshapedArr {reshapedArr}')"
      ],
      "metadata": {
        "colab": {
          "base_uri": "https://localhost:8080/"
        },
        "id": "UD-xP6k_OjIV",
        "outputId": "e8df84f3-0369-468c-ae22-866a61acb25a"
      },
      "execution_count": null,
      "outputs": [
        {
          "output_type": "stream",
          "name": "stdout",
          "text": [
            "Original array: [1 2 3 4 5 6]\n",
            "Reshaped array:\n",
            " [[1 2 3]\n",
            " [4 5 6]]\n",
            "Transposed [[1]\n",
            " [2]\n",
            " [3]\n",
            " [4]\n",
            " [5]\n",
            " [6]]\n",
            "reshapedArr [[1]\n",
            " [2]\n",
            " [3]\n",
            " [4]\n",
            " [5]\n",
            " [6]]\n"
          ]
        }
      ]
    },
    {
      "cell_type": "code",
      "source": [
        "import numpy as np\n",
        "\n",
        "arr = np.array([1, 2, 3, 4, 5, 6])  # Shape: (6,)\n",
        "reshaped = arr.reshape(1, -1)       # Shape: (1, 6)\n",
        "\n",
        "print(\"Original shape:\", arr.shape)        # Output: (6,)\n",
        "print(\"dimension is \", arr.ndim)\n",
        "print(\"Reshaped shape:\", reshaped.shape)   # Output: (1, 6)\n",
        "print(\"dimension is \", reshaped.ndim)\n",
        "print(\"Reshaped array:\\n\", reshaped)\n"
      ],
      "metadata": {
        "colab": {
          "base_uri": "https://localhost:8080/"
        },
        "id": "7rrTjANNPlOe",
        "outputId": "328246b3-ae1b-4237-bda0-6aa757accda4"
      },
      "execution_count": null,
      "outputs": [
        {
          "output_type": "stream",
          "name": "stdout",
          "text": [
            "Original shape: (6,)\n",
            "dimension is  1\n",
            "Reshaped shape: (1, 6)\n",
            "dimension is  2\n",
            "Reshaped array:\n",
            " [[1 2 3 4 5 6]]\n"
          ]
        }
      ]
    },
    {
      "cell_type": "code",
      "source": [
        "# Creating the array\n",
        "arr = np.array([\n",
        "                [-1, 1, 1,4],\n",
        "                [2, 2, 6,2],\n",
        "                [1, 2,5,5]\n",
        "              ])\n",
        "print(\"Original shape:\", arr.shape)\n",
        "print(\"dimension:\", arr.ndim)"
      ],
      "metadata": {
        "colab": {
          "base_uri": "https://localhost:8080/"
        },
        "id": "7Ue-moAOQXhR",
        "outputId": "70618690-22f7-4b46-ee0e-0d41ac31c02e"
      },
      "execution_count": null,
      "outputs": [
        {
          "output_type": "stream",
          "name": "stdout",
          "text": [
            "Original shape: (3, 4)\n",
            "dimension: 2\n"
          ]
        }
      ]
    },
    {
      "cell_type": "markdown",
      "source": [
        "# Slicing"
      ],
      "metadata": {
        "id": "Z6WKMeuuy7jf"
      }
    },
    {
      "cell_type": "code",
      "source": [
        "#Matrix slicing in NumPy allows you to extract specific rows, columns, or subsets of a 2D array"
      ],
      "metadata": {
        "id": "4sABbudhy7Sz"
      },
      "execution_count": null,
      "outputs": []
    },
    {
      "cell_type": "code",
      "source": [
        "import numpy as np\n",
        "\n",
        "matrix = np.array([\n",
        "                  [1, 2, 3],\n",
        "                  [4, 5, 6],\n",
        "                  [7, 8, 9]\n",
        "                ])\n",
        "print(f'matrix dimension is {matrix.ndim}')\n",
        "print(f'matrix shape is {matrix.shape}')\n",
        "print(matrix)"
      ],
      "metadata": {
        "colab": {
          "base_uri": "https://localhost:8080/"
        },
        "id": "NsYw8DfjzHu3",
        "outputId": "6fa23283-20b7-44cc-da9f-fb6845a246f6"
      },
      "execution_count": null,
      "outputs": [
        {
          "output_type": "stream",
          "name": "stdout",
          "text": [
            "matrix dimension is 2\n",
            "matrix shape is (3, 3)\n",
            "[[1 2 3]\n",
            " [4 5 6]\n",
            " [7 8 9]]\n"
          ]
        }
      ]
    },
    {
      "cell_type": "markdown",
      "source": [
        "![slicing.PNG](data:image/png;base64,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)"
      ],
      "metadata": {
        "id": "QAH7-jp_0IpJ"
      }
    },
    {
      "cell_type": "code",
      "source": [
        "row = matrix[1, :]  # Select all columns from the second row\n",
        "print(row)  # Output: [4 5 6]"
      ],
      "metadata": {
        "colab": {
          "base_uri": "https://localhost:8080/"
        },
        "id": "obk61E71zMoP",
        "outputId": "fcab9dae-b79b-46a6-b55e-9c420c5f0805"
      },
      "execution_count": null,
      "outputs": [
        {
          "output_type": "stream",
          "name": "stdout",
          "text": [
            "[4 5 6]\n"
          ]
        }
      ]
    },
    {
      "cell_type": "code",
      "source": [
        "column = matrix[:, 0]  # Select all rows from the first column\n",
        "print(column)  # Output: [1 4 7]\n",
        "\n",
        "#reshaping as I do not know the rows but I like to make into 1 col\n",
        "col=column.reshape(-1,1)\n",
        "print(col)"
      ],
      "metadata": {
        "colab": {
          "base_uri": "https://localhost:8080/"
        },
        "id": "-Tg_UJNdzMlL",
        "outputId": "ecc47ee3-be9f-4037-d541-6190e58fd126"
      },
      "execution_count": null,
      "outputs": [
        {
          "output_type": "stream",
          "name": "stdout",
          "text": [
            "[1 4 7]\n",
            "[[1]\n",
            " [4]\n",
            " [7]]\n"
          ]
        }
      ]
    },
    {
      "cell_type": "code",
      "source": [
        "submatrix = matrix[0:2, 0:2]  # Rows 0-1 and Columns 0-1\n",
        "print(submatrix)\n"
      ],
      "metadata": {
        "colab": {
          "base_uri": "https://localhost:8080/"
        },
        "id": "wgzCPsgC1B6m",
        "outputId": "39a75f1e-c26e-45d0-bb5b-0634cda381d3"
      },
      "execution_count": null,
      "outputs": [
        {
          "output_type": "stream",
          "name": "stdout",
          "text": [
            "[[1 2]\n",
            " [4 5]]\n"
          ]
        }
      ]
    },
    {
      "cell_type": "code",
      "source": [
        "element = matrix[2, 1]  # Row index 2, Column index 1\n",
        "print(element)  # Output: 8\n"
      ],
      "metadata": {
        "colab": {
          "base_uri": "https://localhost:8080/"
        },
        "id": "IoTpxqp81BzK",
        "outputId": "4e710394-9bae-4405-c95f-c3a9e8b397cb"
      },
      "execution_count": null,
      "outputs": [
        {
          "output_type": "stream",
          "name": "stdout",
          "text": [
            "8\n"
          ]
        }
      ]
    },
    {
      "cell_type": "code",
      "source": [
        "#matrix[row,col]\n",
        "every_other_row = matrix[::2, :]  # Rows 0, 2 (step of 2)\n",
        "print(every_other_row)\n"
      ],
      "metadata": {
        "colab": {
          "base_uri": "https://localhost:8080/"
        },
        "id": "uyIIIv3r1BrB",
        "outputId": "a515002f-77eb-4c30-e29c-82540c2f043d"
      },
      "execution_count": null,
      "outputs": [
        {
          "output_type": "stream",
          "name": "stdout",
          "text": [
            "[[1 2 3]\n",
            " [7 8 9]]\n"
          ]
        }
      ]
    },
    {
      "cell_type": "code",
      "source": [
        "#row -> [0,2]\n",
        "#col -> all\n",
        "specific_rows = matrix[[0, 2], :]  # Rows 0 and 2\n",
        "print(specific_rows)\n"
      ],
      "metadata": {
        "colab": {
          "base_uri": "https://localhost:8080/"
        },
        "id": "v1rdH8KE1eoV",
        "outputId": "6937fb0f-b32b-4cfa-ee79-627395723f31"
      },
      "execution_count": null,
      "outputs": [
        {
          "output_type": "stream",
          "name": "stdout",
          "text": [
            "[[1 2 3]\n",
            " [7 8 9]]\n"
          ]
        }
      ]
    },
    {
      "cell_type": "code",
      "source": [
        "import numpy as np\n",
        "\n",
        "# Example matrix of eigenvectors (2D array)\n",
        "eigenvecs = np.array([[1, 0],\n",
        "                      [0, 1]])\n",
        "\n",
        "# Extract the first column (the first eigenvector)\n",
        "first_eigenvector = eigenvecs[:, 0]\n",
        "\n",
        "# Extract the 2nd column\n",
        "second_eigenvector = eigenvecs[:, 1]\n",
        "\n",
        "print(\"Eigenvectors matrix:\\n\", eigenvecs)\n",
        "print(\"First eigenvector:\", first_eigenvector)\n",
        "\n",
        "print(\"second_eigenvector\", second_eigenvector)\n"
      ],
      "metadata": {
        "colab": {
          "base_uri": "https://localhost:8080/"
        },
        "id": "B2NaKGboorE6",
        "outputId": "30697449-225a-4eab-d38e-ca21f7acc819"
      },
      "execution_count": null,
      "outputs": [
        {
          "output_type": "stream",
          "name": "stdout",
          "text": [
            "Eigenvectors matrix:\n",
            " [[1 0]\n",
            " [0 1]]\n",
            "First eigenvector: [1 0]\n",
            "second_eigenvector [0 1]\n"
          ]
        }
      ]
    },
    {
      "cell_type": "code",
      "source": [
        "import numpy as np\n",
        "\n",
        "# np.newaxis is a special indexing tool in NumPy that allows you to add a new dimension (or axis) to an existing array.\n",
        "# It is used to reshape arrays without modifying the data\n",
        "\n",
        "arr = np.array([1, 2, 3])  # Shape: (3,)\n",
        "\n",
        "vector=arr[:]\n",
        "print(vector)\n",
        "\n",
        "# Add a new axis to make it a row vector\n",
        "row_vector = arr[np.newaxis, :]  # Shape: (1, 3)\n",
        "print(f' row_vector  is {row_vector}')\n",
        "\n",
        "# Add a new axis to make it a column vector\n",
        "column_vector = arr[:, np.newaxis]  # Shape: (3, 1)\n",
        "print(f' col_vector  is {column_vector}')\n",
        "\n",
        "print(\"Original array shape:\", arr.shape)       # Output: (3,)\n",
        "print(\"Row vector shape:\", row_vector.shape)    # Output: (1, 3)\n",
        "print(\"Column vector shape:\", column_vector.shape)  # Output: (3, 1)\n"
      ],
      "metadata": {
        "colab": {
          "base_uri": "https://localhost:8080/"
        },
        "id": "tMZuMa1Rp4r6",
        "outputId": "ea31b5ba-1609-4695-e024-9dad85d2caea"
      },
      "execution_count": null,
      "outputs": [
        {
          "output_type": "stream",
          "name": "stdout",
          "text": [
            "[1 2 3]\n",
            " row_vector  is [[1 2 3]]\n",
            " col_vector  is [[1]\n",
            " [2]\n",
            " [3]]\n",
            "Original array shape: (3,)\n",
            "Row vector shape: (1, 3)\n",
            "Column vector shape: (3, 1)\n"
          ]
        }
      ]
    },
    {
      "cell_type": "code",
      "source": [
        "eigenvecs = np.array([\n",
        "    [1, 2, 3],\n",
        "    [4, 5, 6],\n",
        "    [7, 8, 9]\n",
        "])\n",
        "\n",
        "#eigenvecs[row, col]\n",
        "#row= : means all rows\n",
        "#col = :2 means from col = 0 to 2 (first 2 cols)\n",
        "result = eigenvecs[:, :2]\n",
        "#result = eigenvecs[:, 0:2]\n",
        "print(result)\n",
        "\n"
      ],
      "metadata": {
        "colab": {
          "base_uri": "https://localhost:8080/"
        },
        "id": "O4Rjcjn42jiA",
        "outputId": "5cd870ac-1a03-47ff-c6c0-7b8f7237bcf6"
      },
      "execution_count": null,
      "outputs": [
        {
          "output_type": "stream",
          "name": "stdout",
          "text": [
            "[[1 2]\n",
            " [4 5]\n",
            " [7 8]]\n"
          ]
        }
      ]
    },
    {
      "cell_type": "code",
      "source": [
        "eigenvecs = np.array([\n",
        "    [1, 2, 3],\n",
        "    [4, 5, 6],\n",
        "    [7, 8, 9]\n",
        "])\n",
        "\n",
        "#eigenvecs[row, col]\n",
        "#row= : means all rows\n",
        "#col = 2 means  2nd col\n",
        "result = eigenvecs[:, 2]\n",
        "print(result)\n",
        "#Note: the dimension is distorted\n",
        "\n"
      ],
      "metadata": {
        "colab": {
          "base_uri": "https://localhost:8080/"
        },
        "id": "K0WeNSjY27X9",
        "outputId": "f6767d08-fff8-44fe-e474-de66a3679c75"
      },
      "execution_count": null,
      "outputs": [
        {
          "output_type": "stream",
          "name": "stdout",
          "text": [
            "[3 6 9]\n"
          ]
        }
      ]
    },
    {
      "cell_type": "code",
      "source": [
        "eigenvecs = np.array([\n",
        "    [1, 2, 3],\n",
        "    [4, 5, 6],\n",
        "    [7, 8, 9]\n",
        "])\n",
        "\n",
        "#eigenvecs[row, col]\n",
        "#row= : means all rows\n",
        "#col = 2: means  from col=1 to rest cols\n",
        "result = eigenvecs[:, 1:]\n",
        "print(result)\n",
        "#Note: the dimension is distorted\n",
        "\n"
      ],
      "metadata": {
        "colab": {
          "base_uri": "https://localhost:8080/"
        },
        "id": "_wxDB_yx3NtK",
        "outputId": "42870d28-7294-4a55-f4c5-48da5c641624"
      },
      "execution_count": null,
      "outputs": [
        {
          "output_type": "stream",
          "name": "stdout",
          "text": [
            "[[2 3]\n",
            " [5 6]\n",
            " [8 9]]\n"
          ]
        }
      ]
    }
  ]
}